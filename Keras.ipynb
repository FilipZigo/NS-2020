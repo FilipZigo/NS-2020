{
 "cells": [
  {
   "cell_type": "code",
   "execution_count": 1,
   "metadata": {
    "collapsed": true,
    "pycharm": {
     "name": "#%%\n"
    }
   },
   "outputs": [
    {
     "name": "stderr",
     "output_type": "stream",
     "text": [
      "Using TensorFlow backend.\n"
     ]
    }
   ],
   "source": [
    "import pandas as pd\n",
    "import matplotlib.pyplot as plt\n",
    "\n",
    "from sklearn.model_selection import train_test_split\n",
    "from sklearn.metrics import mean_squared_error\n",
    "from sklearn.metrics import accuracy_score\n",
    "\n",
    "from keras.models import Sequential\n",
    "from keras.layers import Dense\n",
    "from keras.models import load_model\n",
    "\n",
    "import seaborn as sns\n",
    "%matplotlib inline"
   ]
  },
  {
   "cell_type": "code",
   "execution_count": 2,
   "outputs": [
    {
     "data": {
      "text/plain": "  class cap-shape cap-surface cap-color bruises odor gill-attachment  \\\n0     p         x           s         n       t    p               f   \n1     e         x           s         y       t    a               f   \n2     e         b           s         w       t    l               f   \n3     p         x           y         w       t    p               f   \n4     e         x           s         g       f    n               f   \n\n  gill-spacing gill-size gill-color  ... stalk-surface-below-ring  \\\n0            c         n          k  ...                        s   \n1            c         b          k  ...                        s   \n2            c         b          n  ...                        s   \n3            c         n          n  ...                        s   \n4            w         b          k  ...                        s   \n\n  stalk-color-above-ring stalk-color-below-ring veil-type veil-color  \\\n0                      w                      w         p          w   \n1                      w                      w         p          w   \n2                      w                      w         p          w   \n3                      w                      w         p          w   \n4                      w                      w         p          w   \n\n  ring-number ring-type spore-print-color population habitat  \n0           o         p                 k          s       u  \n1           o         p                 n          n       g  \n2           o         p                 n          n       m  \n3           o         p                 k          s       u  \n4           o         e                 n          a       g  \n\n[5 rows x 23 columns]",
      "text/html": "<div>\n<style scoped>\n    .dataframe tbody tr th:only-of-type {\n        vertical-align: middle;\n    }\n\n    .dataframe tbody tr th {\n        vertical-align: top;\n    }\n\n    .dataframe thead th {\n        text-align: right;\n    }\n</style>\n<table border=\"1\" class=\"dataframe\">\n  <thead>\n    <tr style=\"text-align: right;\">\n      <th></th>\n      <th>class</th>\n      <th>cap-shape</th>\n      <th>cap-surface</th>\n      <th>cap-color</th>\n      <th>bruises</th>\n      <th>odor</th>\n      <th>gill-attachment</th>\n      <th>gill-spacing</th>\n      <th>gill-size</th>\n      <th>gill-color</th>\n      <th>...</th>\n      <th>stalk-surface-below-ring</th>\n      <th>stalk-color-above-ring</th>\n      <th>stalk-color-below-ring</th>\n      <th>veil-type</th>\n      <th>veil-color</th>\n      <th>ring-number</th>\n      <th>ring-type</th>\n      <th>spore-print-color</th>\n      <th>population</th>\n      <th>habitat</th>\n    </tr>\n  </thead>\n  <tbody>\n    <tr>\n      <th>0</th>\n      <td>p</td>\n      <td>x</td>\n      <td>s</td>\n      <td>n</td>\n      <td>t</td>\n      <td>p</td>\n      <td>f</td>\n      <td>c</td>\n      <td>n</td>\n      <td>k</td>\n      <td>...</td>\n      <td>s</td>\n      <td>w</td>\n      <td>w</td>\n      <td>p</td>\n      <td>w</td>\n      <td>o</td>\n      <td>p</td>\n      <td>k</td>\n      <td>s</td>\n      <td>u</td>\n    </tr>\n    <tr>\n      <th>1</th>\n      <td>e</td>\n      <td>x</td>\n      <td>s</td>\n      <td>y</td>\n      <td>t</td>\n      <td>a</td>\n      <td>f</td>\n      <td>c</td>\n      <td>b</td>\n      <td>k</td>\n      <td>...</td>\n      <td>s</td>\n      <td>w</td>\n      <td>w</td>\n      <td>p</td>\n      <td>w</td>\n      <td>o</td>\n      <td>p</td>\n      <td>n</td>\n      <td>n</td>\n      <td>g</td>\n    </tr>\n    <tr>\n      <th>2</th>\n      <td>e</td>\n      <td>b</td>\n      <td>s</td>\n      <td>w</td>\n      <td>t</td>\n      <td>l</td>\n      <td>f</td>\n      <td>c</td>\n      <td>b</td>\n      <td>n</td>\n      <td>...</td>\n      <td>s</td>\n      <td>w</td>\n      <td>w</td>\n      <td>p</td>\n      <td>w</td>\n      <td>o</td>\n      <td>p</td>\n      <td>n</td>\n      <td>n</td>\n      <td>m</td>\n    </tr>\n    <tr>\n      <th>3</th>\n      <td>p</td>\n      <td>x</td>\n      <td>y</td>\n      <td>w</td>\n      <td>t</td>\n      <td>p</td>\n      <td>f</td>\n      <td>c</td>\n      <td>n</td>\n      <td>n</td>\n      <td>...</td>\n      <td>s</td>\n      <td>w</td>\n      <td>w</td>\n      <td>p</td>\n      <td>w</td>\n      <td>o</td>\n      <td>p</td>\n      <td>k</td>\n      <td>s</td>\n      <td>u</td>\n    </tr>\n    <tr>\n      <th>4</th>\n      <td>e</td>\n      <td>x</td>\n      <td>s</td>\n      <td>g</td>\n      <td>f</td>\n      <td>n</td>\n      <td>f</td>\n      <td>w</td>\n      <td>b</td>\n      <td>k</td>\n      <td>...</td>\n      <td>s</td>\n      <td>w</td>\n      <td>w</td>\n      <td>p</td>\n      <td>w</td>\n      <td>o</td>\n      <td>e</td>\n      <td>n</td>\n      <td>a</td>\n      <td>g</td>\n    </tr>\n  </tbody>\n</table>\n<p>5 rows × 23 columns</p>\n</div>"
     },
     "execution_count": 2,
     "metadata": {},
     "output_type": "execute_result"
    }
   ],
   "source": [
    "# Načítanie datasetu mushrooms.csv a zobrazenie prvých 5 prvkov datasetu\n",
    "dataset = pd.read_csv('Dataset/mushrooms.csv')\n",
    "dataset.head()"
   ],
   "metadata": {
    "collapsed": false,
    "pycharm": {
     "name": "#%%\n"
    }
   }
  },
  {
   "cell_type": "code",
   "execution_count": 3,
   "outputs": [
    {
     "data": {
      "text/plain": "class                       False\ncap-shape                   False\ncap-surface                 False\ncap-color                   False\nbruises                     False\nodor                        False\ngill-attachment             False\ngill-spacing                False\ngill-size                   False\ngill-color                  False\nstalk-shape                 False\nstalk-root                  False\nstalk-surface-above-ring    False\nstalk-surface-below-ring    False\nstalk-color-above-ring      False\nstalk-color-below-ring      False\nveil-type                   False\nveil-color                  False\nring-number                 False\nring-type                   False\nspore-print-color           False\npopulation                  False\nhabitat                     False\ndtype: bool"
     },
     "metadata": {},
     "output_type": "display_data"
    }
   ],
   "source": [
    "# Overenie či sa nenachádza prázdna hodnota v datasete\n",
    "display(dataset.isnull().any())\n"
   ],
   "metadata": {
    "collapsed": false,
    "pycharm": {
     "name": "#%%\n"
    }
   }
  },
  {
   "cell_type": "code",
   "execution_count": 4,
   "outputs": [
    {
     "name": "stdout",
     "output_type": "stream",
     "text": [
      "Počet riadkov datasetu: 8124\n",
      "\n",
      "Výpis prvého riadku:\n",
      "class                       p\n",
      "cap-shape                   x\n",
      "cap-surface                 s\n",
      "cap-color                   n\n",
      "bruises                     t\n",
      "odor                        p\n",
      "gill-attachment             f\n",
      "gill-spacing                c\n",
      "gill-size                   n\n",
      "gill-color                  k\n",
      "stalk-shape                 e\n",
      "stalk-root                  e\n",
      "stalk-surface-above-ring    s\n",
      "stalk-surface-below-ring    s\n",
      "stalk-color-above-ring      w\n",
      "stalk-color-below-ring      w\n",
      "veil-type                   p\n",
      "veil-color                  w\n",
      "ring-number                 o\n",
      "ring-type                   p\n",
      "spore-print-color           k\n",
      "population                  s\n",
      "habitat                     u\n",
      "Name: 0, dtype: object\n"
     ]
    }
   ],
   "source": [
    "# Získanie počtu riadkov datasetu a výpis prvého riadku datasetu\n",
    "total_size = dataset['class'].count()\n",
    "print(\"Počet riadkov datasetu: \"+ str(total_size))\n",
    "\n",
    "print(\"\\nVýpis prvého riadku:\")\n",
    "print(dataset.iloc[0])"
   ],
   "metadata": {
    "collapsed": false,
    "pycharm": {
     "name": "#%%\n"
    }
   }
  },
  {
   "cell_type": "code",
   "execution_count": 5,
   "outputs": [
    {
     "name": "stdout",
     "output_type": "stream",
     "text": [
      "0    1\n",
      "1    0\n",
      "2    0\n",
      "3    1\n",
      "4    0\n",
      "Name: class, dtype: int64\n"
     ]
    }
   ],
   "source": [
    "# Dataset rozdelíme na dáta závislé [premenná druh] a dáta nezávislé [premenná data]\n",
    "druh = dataset['class']\n",
    "data = dataset.iloc[:,1:]\n",
    "\n",
    "# Pri pozorovaní nášho datasetu, môžeme vyvodiť záver, že dataset ma kategorické údaje a preto je potrebné previesť ich na numerický formát\n",
    "druh = druh.replace(to_replace=[\"e\",\"p\"],value=[0,1]) # kategória druh odzrkadluje či je huba jedlá (e-edible) alebo jedovatá (p-poisonous). Jedlú hubu sme nahradili 0 a jedovatú 1.\n",
    "data = pd.get_dummies(data) # premena kategorických údajov na numerický fromát\n",
    "\n",
    "# Výpis stĺpca druhu húb nahradením 'e', 'p' za '0','1'\n",
    "print(druh[:5])"
   ],
   "metadata": {
    "collapsed": false,
    "pycharm": {
     "name": "#%%\n"
    }
   }
  },
  {
   "cell_type": "code",
   "execution_count": 6,
   "outputs": [
    {
     "data": {
      "text/plain": "<matplotlib.axes._subplots.AxesSubplot at 0x21f25feccc8>"
     },
     "execution_count": 6,
     "metadata": {},
     "output_type": "execute_result"
    },
    {
     "data": {
      "text/plain": "<Figure size 432x288 with 1 Axes>",
      "image/png": "[encoded data removed]"
     },
     "metadata": {
      "needs_background": "light"
     },
     "output_type": "display_data"
    }
   ],
   "source": [
    "# Grafové zobrazenie jedlých(e) a jedovatých húb(p)\n",
    "sns.countplot(x='class',data=dataset)"
   ],
   "metadata": {
    "collapsed": false,
    "pycharm": {
     "name": "#%%\n"
    }
   }
  },
  {
   "cell_type": "code",
   "execution_count": 7,
   "outputs": [
    {
     "name": "stdout",
     "output_type": "stream",
     "text": [
      "Ostatné dáta:\n",
      "    cap-shape_b  cap-shape_c  cap-shape_f  cap-shape_k  cap-shape_s  \\\n",
      "0            0            0            0            0            0   \n",
      "1            0            0            0            0            0   \n",
      "2            1            0            0            0            0   \n",
      "3            0            0            0            0            0   \n",
      "4            0            0            0            0            0   \n",
      "\n",
      "   cap-shape_x  cap-surface_f  cap-surface_g  cap-surface_s  cap-surface_y  \\\n",
      "0            1              0              0              1              0   \n",
      "1            1              0              0              1              0   \n",
      "2            0              0              0              1              0   \n",
      "3            1              0              0              0              1   \n",
      "4            1              0              0              1              0   \n",
      "\n",
      "   ...  population_s  population_v  population_y  habitat_d  habitat_g  \\\n",
      "0  ...             1             0             0          0          0   \n",
      "1  ...             0             0             0          0          1   \n",
      "2  ...             0             0             0          0          0   \n",
      "3  ...             1             0             0          0          0   \n",
      "4  ...             0             0             0          0          1   \n",
      "\n",
      "   habitat_l  habitat_m  habitat_p  habitat_u  habitat_w  \n",
      "0          0          0          0          1          0  \n",
      "1          0          0          0          0          0  \n",
      "2          0          1          0          0          0  \n",
      "3          0          0          0          1          0  \n",
      "4          0          0          0          0          0  \n",
      "\n",
      "[5 rows x 117 columns]\n"
     ]
    }
   ],
   "source": [
    "# Výpis ostatných dát pre prehladnosť sme dali vypísať prvých 5 záznamov\n",
    "print('Ostatné dáta:\\n', data[:5])"
   ],
   "metadata": {
    "collapsed": false,
    "pycharm": {
     "name": "#%%\n"
    }
   }
  },
  {
   "cell_type": "code",
   "execution_count": 8,
   "outputs": [
    {
     "data": {
      "text/plain": "             cap-shape_b  cap-shape_c  cap-shape_f  cap-shape_k  cap-shape_s  \\\ncap-shape_b     1.000000    -0.005387    -0.193260    -0.081769    -0.015264   \ncap-shape_c    -0.005387     1.000000    -0.017672    -0.007477    -0.001396   \ncap-shape_f    -0.193260    -0.017672     1.000000    -0.268226    -0.050070   \ncap-shape_k    -0.081769    -0.007477    -0.268226     1.000000    -0.021185   \ncap-shape_s    -0.015264    -0.001396    -0.050070    -0.021185     1.000000   \n\n             cap-shape_x  cap-surface_f  cap-surface_g  cap-surface_s  \\\ncap-shape_b    -0.219564      -0.091638       0.018820       0.117712   \ncap-shape_c    -0.020077      -0.014032       0.249631      -0.015038   \ncap-shape_f    -0.720235       0.064801      -0.006285      -0.093397   \ncap-shape_k    -0.304733      -0.158942       0.010863       0.137988   \ncap-shape_s    -0.056884       0.099464      -0.001396      -0.042607   \n\n             cap-surface_y  ...  population_v  population_y  habitat_d  \\\ncap-shape_b      -0.027947  ...     -0.168381     -0.120154  -0.182037   \ncap-shape_c       0.015893  ...     -0.022075     -0.011469  -0.017653   \ncap-shape_f       0.029076  ...      0.034625      0.111346   0.074986   \ncap-shape_k       0.015261  ...      0.172707     -0.170081  -0.089230   \ncap-shape_s      -0.051272  ...      0.000341      0.044603  -0.050018   \n\n             habitat_g  habitat_l  habitat_m  habitat_p  habitat_u  habitat_w  \\\ncap-shape_b   0.149151   0.010113   0.374316  -0.095178  -0.052871  -0.037764   \ncap-shape_c  -0.013306   0.065707  -0.004286  -0.008985  -0.004835  -0.003453   \ncap-shape_f  -0.017982  -0.052326  -0.129312   0.021891   0.030636  -0.017450   \ncap-shape_k  -0.113404   0.235108  -0.065047   0.090538  -0.073380   0.119003   \ncap-shape_s  -0.037702  -0.021242  -0.012142  -0.025458   0.288697  -0.009784   \n\n               result  \ncap-shape_b -0.182567  \ncap-shape_c  0.023007  \ncap-shape_f  0.018526  \ncap-shape_k  0.163565  \ncap-shape_s -0.060664  \n\n[5 rows x 118 columns]",
      "text/html": "<div>\n<style scoped>\n    .dataframe tbody tr th:only-of-type {\n        vertical-align: middle;\n    }\n\n    .dataframe tbody tr th {\n        vertical-align: top;\n    }\n\n    .dataframe thead th {\n        text-align: right;\n    }\n</style>\n<table border=\"1\" class=\"dataframe\">\n  <thead>\n    <tr style=\"text-align: right;\">\n      <th></th>\n      <th>cap-shape_b</th>\n      <th>cap-shape_c</th>\n      <th>cap-shape_f</th>\n      <th>cap-shape_k</th>\n      <th>cap-shape_s</th>\n      <th>cap-shape_x</th>\n      <th>cap-surface_f</th>\n      <th>cap-surface_g</th>\n      <th>cap-surface_s</th>\n      <th>cap-surface_y</th>\n      <th>...</th>\n      <th>population_v</th>\n      <th>population_y</th>\n      <th>habitat_d</th>\n      <th>habitat_g</th>\n      <th>habitat_l</th>\n      <th>habitat_m</th>\n      <th>habitat_p</th>\n      <th>habitat_u</th>\n      <th>habitat_w</th>\n      <th>result</th>\n    </tr>\n  </thead>\n  <tbody>\n    <tr>\n      <th>cap-shape_b</th>\n      <td>1.000000</td>\n      <td>-0.005387</td>\n      <td>-0.193260</td>\n      <td>-0.081769</td>\n      <td>-0.015264</td>\n      <td>-0.219564</td>\n      <td>-0.091638</td>\n      <td>0.018820</td>\n      <td>0.117712</td>\n      <td>-0.027947</td>\n      <td>...</td>\n      <td>-0.168381</td>\n      <td>-0.120154</td>\n      <td>-0.182037</td>\n      <td>0.149151</td>\n      <td>0.010113</td>\n      <td>0.374316</td>\n      <td>-0.095178</td>\n      <td>-0.052871</td>\n      <td>-0.037764</td>\n      <td>-0.182567</td>\n    </tr>\n    <tr>\n      <th>cap-shape_c</th>\n      <td>-0.005387</td>\n      <td>1.000000</td>\n      <td>-0.017672</td>\n      <td>-0.007477</td>\n      <td>-0.001396</td>\n      <td>-0.020077</td>\n      <td>-0.014032</td>\n      <td>0.249631</td>\n      <td>-0.015038</td>\n      <td>0.015893</td>\n      <td>...</td>\n      <td>-0.022075</td>\n      <td>-0.011469</td>\n      <td>-0.017653</td>\n      <td>-0.013306</td>\n      <td>0.065707</td>\n      <td>-0.004286</td>\n      <td>-0.008985</td>\n      <td>-0.004835</td>\n      <td>-0.003453</td>\n      <td>0.023007</td>\n    </tr>\n    <tr>\n      <th>cap-shape_f</th>\n      <td>-0.193260</td>\n      <td>-0.017672</td>\n      <td>1.000000</td>\n      <td>-0.268226</td>\n      <td>-0.050070</td>\n      <td>-0.720235</td>\n      <td>0.064801</td>\n      <td>-0.006285</td>\n      <td>-0.093397</td>\n      <td>0.029076</td>\n      <td>...</td>\n      <td>0.034625</td>\n      <td>0.111346</td>\n      <td>0.074986</td>\n      <td>-0.017982</td>\n      <td>-0.052326</td>\n      <td>-0.129312</td>\n      <td>0.021891</td>\n      <td>0.030636</td>\n      <td>-0.017450</td>\n      <td>0.018526</td>\n    </tr>\n    <tr>\n      <th>cap-shape_k</th>\n      <td>-0.081769</td>\n      <td>-0.007477</td>\n      <td>-0.268226</td>\n      <td>1.000000</td>\n      <td>-0.021185</td>\n      <td>-0.304733</td>\n      <td>-0.158942</td>\n      <td>0.010863</td>\n      <td>0.137988</td>\n      <td>0.015261</td>\n      <td>...</td>\n      <td>0.172707</td>\n      <td>-0.170081</td>\n      <td>-0.089230</td>\n      <td>-0.113404</td>\n      <td>0.235108</td>\n      <td>-0.065047</td>\n      <td>0.090538</td>\n      <td>-0.073380</td>\n      <td>0.119003</td>\n      <td>0.163565</td>\n    </tr>\n    <tr>\n      <th>cap-shape_s</th>\n      <td>-0.015264</td>\n      <td>-0.001396</td>\n      <td>-0.050070</td>\n      <td>-0.021185</td>\n      <td>1.000000</td>\n      <td>-0.056884</td>\n      <td>0.099464</td>\n      <td>-0.001396</td>\n      <td>-0.042607</td>\n      <td>-0.051272</td>\n      <td>...</td>\n      <td>0.000341</td>\n      <td>0.044603</td>\n      <td>-0.050018</td>\n      <td>-0.037702</td>\n      <td>-0.021242</td>\n      <td>-0.012142</td>\n      <td>-0.025458</td>\n      <td>0.288697</td>\n      <td>-0.009784</td>\n      <td>-0.060664</td>\n    </tr>\n  </tbody>\n</table>\n<p>5 rows × 118 columns</p>\n</div>"
     },
     "metadata": {},
     "output_type": "display_data"
    }
   ],
   "source": [
    "# Korelácia [druh a data], vytvorenie matrixu\n",
    "data[\"result\"] = druh\n",
    "correlation_matrix = data.corr()\n",
    "display(correlation_matrix.head())"
   ],
   "metadata": {
    "collapsed": false,
    "pycharm": {
     "name": "#%%\n"
    }
   }
  },
  {
   "cell_type": "code",
   "execution_count": 9,
   "outputs": [],
   "source": [
    "# Získanie stĺpcov, ktorých kolerácia so závislými dátami (druh) je väčšia ako 0.5 a uloženie do premennej columns \n",
    "columns=[]\n",
    "for column,value in zip(correlation_matrix.loc[\"result\"].index,correlation_matrix.loc[\"result\"]):\n",
    "    if(abs(value)>0.5):\n",
    "        columns.append(column)\n",
    "data = data[columns]\n"
   ],
   "metadata": {
    "collapsed": false,
    "pycharm": {
     "name": "#%%\n"
    }
   }
  },
  {
   "cell_type": "code",
   "execution_count": 10,
   "outputs": [
    {
     "name": "stdout",
     "output_type": "stream",
     "text": [
      "Premenná X:\n",
      "    bruises_f  bruises_t  odor_f  odor_n  gill-size_b  gill-size_n  \\\n",
      "0          0          1       0       0            0            1   \n",
      "1          0          1       0       0            1            0   \n",
      "\n",
      "   gill-color_b  stalk-surface-above-ring_k  stalk-surface-below-ring_k  \\\n",
      "0             0                           0                           0   \n",
      "1             0                           0                           0   \n",
      "\n",
      "   ring-type_p  \n",
      "0            1  \n",
      "1            1  \n",
      "\n",
      "Premenná y:\n",
      " 0    1\n",
      "1    0\n",
      "2    0\n",
      "3    1\n",
      "4    0\n",
      "Name: result, dtype: int64\n"
     ]
    }
   ],
   "source": [
    "# Získanie údajov X a y potrebné na vykonanie testov\n",
    "# 33% dát pouzitých na testovanie\n",
    "X = data.iloc[:,:-1]\n",
    "y = data.iloc[:,-1]\n",
    "\n",
    "print('Premenná X:\\n',X[:2]) # Výpis prvých 3 riadkov premennej X\n",
    "print('\\nPremenná y:\\n',y[:5]) # Výpis prvých 5 riadkov premmenej y\n",
    "\n",
    "X_train, X_test, y_train, y_test = train_test_split(X, y, test_size=0.33, random_state=42)"
   ],
   "metadata": {
    "collapsed": false,
    "pycharm": {
     "name": "#%%\n"
    }
   }
  },
  {
   "cell_type": "code",
   "execution_count": 11,
   "outputs": [
    {
     "name": "stdout",
     "output_type": "stream",
     "text": [
      "Celkový počet prvkov:  8124\n",
      "Prvy na trénovanie:  5443\n",
      "Prvky na testovanie:  2681\n"
     ]
    }
   ],
   "source": [
    "# Výpis počtu prvkov pre kontrolu správnosti funkčnosti. V prvom prípade 33% dát použitých na testovanie\n",
    "print('Celkový počet prvkov: ',len(y))\n",
    "print('Prvy na trénovanie: ',len(y_train))\n",
    "print('Prvky na testovanie: ',len(y_test))\n",
    "\n"
   ],
   "metadata": {
    "collapsed": false,
    "pycharm": {
     "name": "#%%\n"
    }
   }
  },
  {
   "cell_type": "code",
   "execution_count": 12,
   "outputs": [
    {
     "data": {
      "text/plain": "<matplotlib.axes._subplots.AxesSubplot at 0x21f26073988>"
     },
     "execution_count": 12,
     "metadata": {},
     "output_type": "execute_result"
    },
    {
     "data": {
      "text/plain": "<Figure size 432x288 with 2 Axes>",
      "image/png": "[encoded data removed]"
     },
     "metadata": {
      "needs_background": "light"
     },
     "output_type": "display_data"
    }
   ],
   "source": [
    "sns.heatmap(data.corr(),annot=False)"
   ],
   "metadata": {
    "collapsed": false,
    "pycharm": {
     "name": "#%%\n"
    }
   }
  },
  {
   "cell_type": "code",
   "execution_count": 13,
   "outputs": [
    {
     "name": "stdout",
     "output_type": "stream",
     "text": [
      "Train on 4354 samples, validate on 1089 samples\n",
      "Epoch 1/10\n",
      "4354/4354 [==============================] - 0s 38us/step - loss: 0.5643 - accuracy: 0.7673 - val_loss: 0.3540 - val_accuracy: 0.9587\b\b\b\b\b\b\b\b\b\b\b\b\b\b\b\b\b\b\b\b\b\b\b\b\b\b\b\b\b\b\b\b\b\b\b\b\b\b\b\n",
      "Epoch 2/10\n",
      "4354/4354 [==============================] - 0s 11us/step - loss: 0.2189 - accuracy: 0.9614 - val_loss: 0.1345 - val_accuracy: 0.9679\b\b\b\b\b\b\b\b\b\b\b\b\b\b\b\b\b\b\b\b\b\b\b\b\b\b\b\b\b\b\b\b\b\b\b\b\b\b\b\n",
      "Epoch 3/10\n",
      "4354/4354 [==============================] - 0s 11us/step - loss: 0.1155 - accuracy: 0.9736 - val_loss: 0.0926 - val_accuracy: 0.9807\b\b\b\b\b\b\b\b\b\b\b\b\b\b\b\b\b\b\b\b\b\b\b\b\b\b\b\b\b\b\b\b\b\b\b\b\b\b\b\n",
      "Epoch 4/10\n",
      "4354/4354 [==============================] - 0s 11us/step - loss: 0.0961 - accuracy: 0.9775 - val_loss: 0.0808 - val_accuracy: 0.9807\b\b\b\b\b\b\b\b\b\b\b\b\b\b\b\b\b\b\b\b\b\b\b\b\b\b\b\b\b\b\b\b\b\b\b\b\b\b\b\n",
      "Epoch 5/10\n",
      "4354/4354 [==============================] - 0s 11us/step - loss: 0.0895 - accuracy: 0.9775 - val_loss: 0.0756 - val_accuracy: 0.9807\b\b\b\b\b\b\b\b\b\b\b\b\b\b\b\b\b\b\b\b\b\b\b\b\b\b\b\b\b\b\b\b\b\b\b\b\b\b\b\n",
      "Epoch 6/10\n",
      "4354/4354 [==============================] - 0s 11us/step - loss: 0.0854 - accuracy: 0.9775 - val_loss: 0.0728 - val_accuracy: 0.9807\b\b\b\b\b\b\b\b\b\b\b\b\b\b\b\b\b\b\b\b\b\b\b\b\b\b\b\b\b\b\b\b\b\b\b\b\b\b\b\n",
      "Epoch 7/10\n",
      "4354/4354 [==============================] - 0s 11us/step - loss: 0.0827 - accuracy: 0.9775 - val_loss: 0.0698 - val_accuracy: 0.9807\b\b\b\b\b\b\b\b\b\b\b\b\b\b\b\b\b\b\b\b\b\b\b\b\b\b\b\b\b\b\b\b\b\b\b\b\b\b\b\n",
      "Epoch 8/10\n",
      "4354/4354 [==============================] - 0s 11us/step - loss: 0.0810 - accuracy: 0.9775 - val_loss: 0.0680 - val_accuracy: 0.9807\b\b\b\b\b\b\b\b\b\b\b\b\b\b\b\b\b\b\b\b\b\b\b\b\b\b\b\b\b\b\b\b\b\b\b\b\b\b\b\n",
      "Epoch 9/10\n",
      "4354/4354 [==============================] - 0s 11us/step - loss: 0.0793 - accuracy: 0.9775 - val_loss: 0.0663 - val_accuracy: 0.9807\b\b\b\b\b\b\b\b\b\b\b\b\b\b\b\b\b\b\b\b\b\b\b\b\b\b\b\b\b\b\b\b\b\b\b\b\b\b\b\n",
      "Epoch 10/10\n",
      "4354/4354 [==============================] - 0s 11us/step - loss: 0.0777 - accuracy: 0.9775 - val_loss: 0.0654 - val_accuracy: 0.9807\b\b\b\b\b\b\b\b\b\b\b\b\b\b\b\b\b\b\b\b\b\b\b\b\b\b\b\b\b\b\b\b\b\b\b\b\b\b\b\n"
     ]
    }
   ],
   "source": [
    "# Vytvorenie neurónovej siete Keras s 2 vrstvami a 50 neuronmi. Model sequential\n",
    "model = Sequential()\n",
    "# Aktivačnú funkciu som si zvolil Relu - je menej náročná na výpočty a účinejšia na medzivrstvy\n",
    "model.add(Dense(50, input_dim=X_train.shape[1], activation='relu'))\n",
    "model.add(Dense(50, activation='relu'))\n",
    "# Sigmoid je použitý na výstup, pretože klasifikuje dáta na základe suvislých hodnôt 0 a 1\n",
    "model.add(Dense(1, activation='sigmoid'))\n",
    "\n",
    "model.compile(loss='binary_crossentropy', optimizer='adam', metrics=['accuracy'])\n",
    "scores = model.fit(X_train, y_train, batch_size=100, epochs=10, validation_split=0.2)"
   ],
   "metadata": {
    "collapsed": false,
    "pycharm": {
     "name": "#%%\n"
    }
   }
  },
  {
   "cell_type": "code",
   "execution_count": 14,
   "outputs": [
    {
     "name": "stdout",
     "output_type": "stream",
     "text": [
      "Presnosť trénovania: 97.75% / Validácia trénovania presnosti: 98.07%\n"
     ]
    }
   ],
   "source": [
    "# Výpis výsledku trénovania\n",
    "print(\"Presnosť trénovania: %.2f%% / Validácia trénovania presnosti: %.2f%%\" %\n",
    "      (100*scores.history['accuracy'][-1], 100*scores.history['val_accuracy'][-1]))\n",
    "\n"
   ],
   "metadata": {
    "collapsed": false,
    "pycharm": {
     "name": "#%%\n"
    }
   }
  },
  {
   "cell_type": "code",
   "execution_count": 15,
   "outputs": [
    {
     "data": {
      "text/plain": "<Figure size 432x288 with 1 Axes>",
      "image/png": "[encoded data removed]"
     },
     "metadata": {
      "needs_background": "light"
     },
     "output_type": "display_data"
    },
    {
     "data": {
      "text/plain": "<Figure size 432x288 with 1 Axes>",
      "image/png": "[encoded data removed]"
     },
     "metadata": {
      "needs_background": "light"
     },
     "output_type": "display_data"
    }
   ],
   "source": [
    "plt.plot(scores.history['accuracy'])\n",
    "plt.plot(scores.history['val_accuracy'])\n",
    "\n",
    "plt.title('Model presnosti')\n",
    "plt.ylabel('presnost')\n",
    "plt.xlabel('epoch')\n",
    "plt.legend(['train','validation'], loc='center right')\n",
    "plt.show()\n",
    "\n",
    "plt.plot(scores.history['loss'])\n",
    "plt.plot(scores.history['val_loss'])\n",
    "\n",
    "plt.title('Model straty')\n",
    "plt.ylabel('strata')\n",
    "plt.xlabel('epoch')\n",
    "plt.legend(['train','validation'], loc='center right')\n",
    "plt.show()\n"
   ],
   "metadata": {
    "collapsed": false,
    "pycharm": {
     "name": "#%%\n"
    }
   }
  }
 ],
 "metadata": {
  "kernelspec": {
   "display_name": "Python 3",
   "language": "python",
   "name": "python3"
  },
  "language_info": {
   "codemirror_mode": {
    "name": "ipython",
    "version": 2
   },
   "file_extension": ".py",
   "mimetype": "text/x-python",
   "name": "python",
   "nbconvert_exporter": "python",
   "pygments_lexer": "ipython2",
   "version": "2.7.6"
  }
 },
 "nbformat": 4,
 "nbformat_minor": 0
}